{
 "cells": [
  {
   "cell_type": "markdown",
   "id": "7fae2560-d948-434f-a8aa-bd4d44b0bef5",
   "metadata": {},
   "source": [
    "# Let's try out the vMF sampling in TensorFlow"
   ]
  },
  {
   "cell_type": "code",
   "execution_count": null,
   "id": "47bafb1b-d7c3-48f7-965b-c0243aeabae2",
   "metadata": {},
   "outputs": [],
   "source": [
    "import numpy as np\n",
    "np.random.seed(12345)\n",
    "\n",
    "import matplotlib.pyplot as plt\n",
    "%config InlineBackend.figure_format = 'retina'\n",
    "\n",
    "plt.rcParams.update({\n",
    "    \"text.usetex\": True,\n",
    "})\n",
    "\n",
    "from tensorflow_probability.substrates import jax as tfp\n",
    "tfd = tfp.distributions\n",
    "\n",
    "import jax.random as jr\n",
    "import jax.numpy as jnp\n",
    "\n",
    "init_key = jr.key(123)"
   ]
  },
  {
   "cell_type": "code",
   "execution_count": null,
   "id": "0f321f9f-3c5e-426b-bbea-67dc6ebd123f",
   "metadata": {},
   "outputs": [],
   "source": [
    "mu = jnp.array([1., 0, 1., 0, 0, 0, 0, 0, 0, 0])\n",
    "mu /= jnp.linalg.norm(mu)\n",
    "kappa = jnp.array(100.)\n",
    "vmf = tfd.VonMisesFisher(mu, kappa)"
   ]
  },
  {
   "cell_type": "code",
   "execution_count": null,
   "id": "46228f99-180b-4930-93c9-f28f8147b31a",
   "metadata": {},
   "outputs": [],
   "source": [
    "key, sample_key = jr.split(init_key)\n",
    "vmf.sample((5,), sample_key)"
   ]
  },
  {
   "cell_type": "markdown",
   "id": "e5f335fb-3b71-4ee2-8378-223e8daa8540",
   "metadata": {},
   "source": [
    "Now, let's take a bunch of samples and see how they are distributed:"
   ]
  },
  {
   "cell_type": "code",
   "execution_count": null,
   "id": "de53b1ab-1e87-4d49-9ff6-4d540ec93b1b",
   "metadata": {},
   "outputs": [],
   "source": [
    "kappa_list = [0., 10., 100.]\n",
    "\n",
    "for kappa in kappa_list:\n",
    "    vmf = tfd.VonMisesFisher(mu, kappa)\n",
    "\n",
    "    key, sample_key = jr.split(key)\n",
    "    samples = vmf.sample((1_000,), sample_key)\n",
    "\n",
    "    fig, ax = plt.subplots(2, 5, figsize=(18, 8))\n",
    "    for idx, a in enumerate(ax.reshape(-1)):\n",
    "        a.hist(samples[:, idx], bins=25);\n",
    "        a.set_xlim(-1, 1)\n",
    "    fig.suptitle(f\"Samples for $\\\\kappa={vmf.concentration}$\", fontsize=16);"
   ]
  },
  {
   "cell_type": "markdown",
   "id": "b069ac85-f93d-4245-8b62-edb313660a91",
   "metadata": {},
   "source": [
    "# Higher dimensions\n",
    "\n",
    "Now we can try a higher-dimensional example to see if everything still works as intended."
   ]
  },
  {
   "cell_type": "code",
   "execution_count": null,
   "id": "95c6443b-649f-4eef-acaf-68a1b02eec51",
   "metadata": {},
   "outputs": [],
   "source": [
    "mu = jnp.sin(jnp.arange(100) * 2 * jnp.pi/100)\n",
    "mu /= jnp.linalg.norm(mu)\n",
    "plt.plot(mu);\n",
    "plt.title(\"vMF mean vector $\\\\mu$\")\n",
    "plt.xlabel(\"Dimension\")\n",
    "plt.ylabel(\"Coordinate value\")"
   ]
  },
  {
   "cell_type": "code",
   "execution_count": null,
   "id": "ee26fdf7-5120-4a4a-ac4d-991bfa1a04c8",
   "metadata": {},
   "outputs": [],
   "source": [
    "kappa_list = [0., 100., 1000.]\n",
    "\n",
    "for kappa in kappa_list:\n",
    "    vmf = tfd.VonMisesFisher(mu, kappa)\n",
    "\n",
    "    key, sample_key = jr.split(key)\n",
    "    samples = vmf.sample((1_000,), sample_key)\n",
    "\n",
    "    fig, ax = plt.subplots(10, 10, figsize=(18, 8))\n",
    "    for idx, a in enumerate(ax.reshape(-1)):\n",
    "        a.hist(samples[:, idx], bins=25);\n",
    "        a.set_xlim(-0.15, 0.15)\n",
    "        a.set_yticks([])\n",
    "    fig.suptitle(f\"Samples for $\\\\kappa={vmf.concentration}$\", fontsize=16);"
   ]
  },
  {
   "cell_type": "code",
   "execution_count": null,
   "id": "9380678d-5820-406d-ab35-260f9f818e8d",
   "metadata": {},
   "outputs": [],
   "source": []
  }
 ],
 "metadata": {
  "kernelspec": {
   "display_name": "Python 3 (ipykernel)",
   "language": "python",
   "name": "python3"
  },
  "language_info": {
   "codemirror_mode": {
    "name": "ipython",
    "version": 3
   },
   "file_extension": ".py",
   "mimetype": "text/x-python",
   "name": "python",
   "nbconvert_exporter": "python",
   "pygments_lexer": "ipython3",
   "version": "3.10.10"
  }
 },
 "nbformat": 4,
 "nbformat_minor": 5
}
