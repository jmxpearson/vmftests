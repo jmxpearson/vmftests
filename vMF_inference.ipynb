{
 "cells": [
  {
   "cell_type": "markdown",
   "id": "64f6dc3a-8e1d-45f4-8fbd-0b8815fccbaf",
   "metadata": {},
   "source": [
    "# Particle filtering for inference\n",
    "\n",
    "Here, we try to put it all together to infer $\\mathbf{v}$ from data."
   ]
  },
  {
   "cell_type": "code",
   "execution_count": null,
   "id": "21effa2d-69a0-4f20-91d7-7c7dc82c2715",
   "metadata": {},
   "outputs": [],
   "source": [
    "import numpy as np\n",
    "np.random.seed(12345)\n",
    "\n",
    "import matplotlib.pyplot as plt\n",
    "%config InlineBackend.figure_format = 'retina'\n",
    "\n",
    "plt.rcParams.update({\n",
    "    \"text.usetex\": True,\n",
    "    'text.latex.preamble': '\\\\usepackage{amsmath}\\\\usepackage{amssymb}'\n",
    "})\n",
    "\n",
    "import scipy.stats as stats\n",
    "\n",
    "from tensorflow_probability.substrates import jax as tfp\n",
    "tfd = tfp.distributions\n",
    "\n",
    "import jax.random as jr\n",
    "import jax.numpy as jnp\n",
    "from jax import jit, vmap\n",
    "\n",
    "init_key = jr.key(123)"
   ]
  },
  {
   "cell_type": "markdown",
   "id": "1915b595-0ee7-4542-854a-5f4753f51c78",
   "metadata": {},
   "source": [
    "## Make some synthetic data\n",
    "\n",
    "(copied over from `gen_synthetic_data.ipynb`)"
   ]
  },
  {
   "cell_type": "code",
   "execution_count": null,
   "id": "5ed78ab8-5195-4188-a182-5994001ccf13",
   "metadata": {},
   "outputs": [],
   "source": [
    "max_freq = 250  # maximum (absolute value) frequency we care about\n",
    "Nlat = 3  # number of latent patterns\n",
    "N = 1000  # number of samples\n",
    "dt = 0.001  # sample spacing (in s)\n",
    "\n",
    "taxis = np.arange(0, N * dt, dt)\n",
    "freqs = np.fft.fftshift(np.fft.fftfreq(N, dt))\n",
    "Omega = freqs.shape[0]"
   ]
  },
  {
   "cell_type": "code",
   "execution_count": null,
   "id": "615f2a02-282b-4018-9ef6-ca3d0bd0fe6b",
   "metadata": {},
   "outputs": [],
   "source": [
    "center_freqs = [5, 25, 60]  # peak power frequencies of each latent\n",
    "center_std = [.1, .5, 1.5]\n",
    "\n",
    "all_v = []\n",
    "for mu, sig in zip(center_freqs, center_std):\n",
    "    right = stats.norm.pdf(freqs, loc=mu, scale=sig)\n",
    "    left = stats.norm.pdf(freqs, loc=-mu, scale=sig)\n",
    "    this_v = right + left\n",
    "    this_v /= np.linalg.norm(this_v)\n",
    "    all_v.append(this_v)\n",
    "\n",
    "v = np.stack(all_v, axis=0)"
   ]
  },
  {
   "cell_type": "code",
   "execution_count": null,
   "id": "7d9b9bc6-d2c1-4ae5-9182-ad406dcc7e07",
   "metadata": {},
   "outputs": [],
   "source": [
    "vv = np.fft.ifftshift(v, axes=1)\n",
    "s = np.fft.ifft(vv)\n",
    "s = np.real(s)  # real parts should be very near 0\n",
    "\n",
    "# make D\n",
    "Nchan = 5\n",
    "D = np.random.randn(Nchan, Nlat)\n",
    "D /= np.linalg.norm(D, axis=0)\n",
    "\n",
    "# make x\n",
    "eps = 1e-4\n",
    "x = D @ s\n",
    "x += eps * np.random.randn(*x.shape)\n",
    "\n",
    "# plot it\n",
    "scale_factor = 0.01\n",
    "plt.plot(taxis, (x + scale_factor * np.arange(Nchan)[:, np.newaxis]).T);\n",
    "plt.title(r\"Data $\\mathbf{X}$\")\n",
    "plt.xlabel(\"Time (s)\")\n",
    "plt.ylabel(\"Channel\")\n",
    "plt.gca().set_yticks(scale_factor * np.arange(Nchan));\n",
    "plt.gca().set_yticklabels(range(Nchan));"
   ]
  },
  {
   "cell_type": "markdown",
   "id": "ba801bfa-a663-49c7-b501-f5e7f0704920",
   "metadata": {},
   "source": [
    "## Define some functions for inference\n",
    "\n",
    "(copied over from `v_sampling.ipynb`)"
   ]
  },
  {
   "cell_type": "code",
   "execution_count": null,
   "id": "61dcecd9-3ca4-44f1-835b-ed99cf078729",
   "metadata": {},
   "outputs": [],
   "source": [
    "def phi(t, freqs):\n",
    "    \"\"\"\n",
    "    Calculate phi_t as in notes. \n",
    "    Assumes \\omega = 0 is at index 0!\n",
    "    \"\"\"\n",
    "    phase = np.exp(1j * 2 * np.pi * freqs * t)\n",
    "    phase[0] -= 1\n",
    "    phase /= np.sqrt(freqs.shape[0] - 1)\n",
    "    return phase"
   ]
  },
  {
   "cell_type": "code",
   "execution_count": null,
   "id": "118b1806-e062-41cc-bc3b-4caf4c5625c9",
   "metadata": {},
   "outputs": [],
   "source": [
    "def vhat(vprev, bt, t, Omega, dt):\n",
    "    \"\"\"\n",
    "    vprev = v_{t-1}\n",
    "    bt    = \\hat{m}_t/f_t\n",
    "    t     = time\n",
    "    Omega = number of frequencies\n",
    "    \"\"\"\n",
    "    freqs = np.fft.fftfreq(Omega, dt)\n",
    "    phit = phi(t, freqs)\n",
    "    alpha = np.dot(vprev, phit)\n",
    "    oo = Omega/np.sqrt(Omega - 1)\n",
    "    lam = -np.conj(alpha) + oo * bt * np.sqrt((1 - np.abs(alpha)**2)/(1 - (oo * bt)**2))\n",
    "    \n",
    "    vv = (vprev + np.conj(lam * phit))/np.sqrt(1 + np.abs(lam)**2 + 2 * np.real(lam * alpha))\n",
    "    \n",
    "    return vv"
   ]
  },
  {
   "cell_type": "code",
   "execution_count": null,
   "id": "a2a255dd-4e9a-444c-a24a-2783b67d36c2",
   "metadata": {},
   "outputs": [],
   "source": [
    "def vMF_real2cplx(v):\n",
    "    \"\"\"\n",
    "    Transform a N-vector draw from a vMF into v with \n",
    "    v^*{-omega} = v_{omega} (i.e., spectrum of a real signal).\n",
    "    Assumes frequency 0 is also index 0!!!\n",
    "    \"\"\"\n",
    "    vv = np.empty(v.shape, dtype=np.complex128)\n",
    "    N = v.shape[0]\n",
    "    mid = (N + 1)//2\n",
    "    \n",
    "    if N % 2 == 0:\n",
    "        vv[:mid] = v[:mid]\n",
    "        # vv[1:mid] += 1j * v[-1:mid:-1]\n",
    "        # vv[0] += 1j * v[mid]\n",
    "        vv[:mid] += 1j * v[mid:]\n",
    "        vv[-1:mid:-1] = np.conj(vv[1:mid])\n",
    "        vv[mid] = np.conj(vv[0])\n",
    "    else:\n",
    "        vv[:mid] = v[:mid]\n",
    "        # vv[1:mid] += 1j * v[-1:(mid-1):-1]\n",
    "        vv[1:mid] += 1j * v[mid:]\n",
    "        vv[-1:(mid - 1):-1] = np.conj(vv[1:mid])\n",
    "        \n",
    "    return vv/np.sqrt(2)"
   ]
  },
  {
   "cell_type": "code",
   "execution_count": null,
   "id": "49ea280e-3743-4d4b-99f8-a3a78dbd4b17",
   "metadata": {},
   "outputs": [],
   "source": [
    "def vMF_cplx2real(v):\n",
    "    \"\"\"\n",
    "    Transform a N-vector complex spectrum v with \n",
    "    v^*{-omega} = v_{omega} (i.e., spectrum of a real signal)\n",
    "    to a real vector with real parts up front and imaginary parts in back.\n",
    "    Assumes frequency 0 is also index 0!!!\n",
    "    \"\"\"\n",
    "    vv = np.empty(v.shape, dtype=np.float64)\n",
    "    N = v.shape[0]\n",
    "    mid = (N + 1)//2\n",
    "\n",
    "    if N % 2 == 0:\n",
    "        vv[:mid] = np.real(v[:mid])\n",
    "        vv[mid:] = np.imag(v[:mid])\n",
    "    else:\n",
    "        vv[:mid] = np.real(v[:mid])\n",
    "        vv[mid:] = np.imag(v[1:mid])\n",
    "    return vv * np.sqrt(2)"
   ]
  },
  {
   "cell_type": "markdown",
   "id": "4354bfa6-7273-4128-b89d-96604655796d",
   "metadata": {},
   "source": [
    "## Set up inference\n",
    "\n",
    "Calculate some quantities that we'll need later.\n",
    "\n",
    "In the notes, we want to solve $\\min \\lVert \\mathbf{X} - \\mathbf{DM}\\rVert_F$ for $\\mathbf{M}$:"
   ]
  },
  {
   "cell_type": "code",
   "execution_count": null,
   "id": "2ba6068f-03fe-48aa-a3f2-bb390991bf23",
   "metadata": {},
   "outputs": [],
   "source": [
    "D.shape, x.shape"
   ]
  },
  {
   "cell_type": "code",
   "execution_count": null,
   "id": "2284b654-cba3-4118-95a2-2f9a535023d1",
   "metadata": {},
   "outputs": [],
   "source": [
    "M = np.linalg.lstsq(D, x)[0]\n",
    "M.shape"
   ]
  },
  {
   "cell_type": "code",
   "execution_count": null,
   "id": "d986ab32-7004-4712-bdfa-ab1078d38cd5",
   "metadata": {},
   "outputs": [],
   "source": [
    "oo = Omega / np.sqrt(Omega - 1)"
   ]
  },
  {
   "cell_type": "markdown",
   "id": "0ab18797-653f-471d-9944-45f24450106c",
   "metadata": {},
   "source": [
    "In the data above, we have assumed $f_{jt} = 1$, so we won't worry about that."
   ]
  },
  {
   "cell_type": "markdown",
   "id": "aafe826a-ce22-4f5b-9494-44cfe2aac0fb",
   "metadata": {},
   "source": [
    "## Do particle filtering\n",
    "\n",
    "The goal is not to make it fast, just to test for whether we can recover $\\mathbf{v}$."
   ]
  },
  {
   "cell_type": "code",
   "execution_count": null,
   "id": "375a1530-af15-4bf6-9d62-2f2ac44b2507",
   "metadata": {},
   "outputs": [],
   "source": [
    "K = 10  # number of particles"
   ]
  },
  {
   "cell_type": "code",
   "execution_count": null,
   "id": "1a691f65-dae7-4c00-b83a-b92f3c2645e6",
   "metadata": {},
   "outputs": [],
   "source": [
    "# calculate initial guess for v\n",
    "# assume \"previous\" v is white noise\n",
    "vprev = np.ones(Omega)\n",
    "vprev /= np.linalg.norm(vprev)\n",
    "vprev = vMF_real2cplx(vprev)\n",
    "vprev[0] = 0  # no zero-frequency\n",
    "\n",
    "vhat0 = np.array([vhat(vprev, bt, 0, Omega, dt) for bt in M[:, 0]])"
   ]
  },
  {
   "cell_type": "code",
   "execution_count": null,
   "id": "589b3ce4-3a23-474b-9ff0-936cec765dfa",
   "metadata": {},
   "outputs": [],
   "source": [
    "# sample initial v based on this guess\n",
    "key, sample_key = jr.split(init_key)\n",
    "mu = np.array([vMF_cplx2real(vv) for vv in vhat0])\n",
    "mu /= jnp.linalg.norm(mu, axis=-1)[:, np.newaxis]\n",
    "kappa = jnp.array(100.)  # uniform distribution\n",
    "vmf = tfd.VonMisesFisher(mu, kappa)\n",
    "vmf0 = vmf.sample((K,), sample_key)\n",
    "\n",
    "# convert particle samples back to complex spectra\n",
    "v0 = np.empty(vmf0.shape, dtype='complex128')\n",
    "for k in range(vmf0.shape[0]):\n",
    "    for l in range(vmf0.shape[1]):\n",
    "        v0[k, l] = vMF_real2cplx(vmf0[k, l])\n",
    "\n",
    "# calculate data\n",
    "s0 = np.fft.ifft(v0)\n",
    "s0 = np.real(s0)\n",
    "xbar = D @ s0\n",
    "\n",
    "# calculate weights"
   ]
  },
  {
   "cell_type": "code",
   "execution_count": null,
   "id": "526a4d4c-eedb-4761-a7d3-aa92bebdb626",
   "metadata": {},
   "outputs": [],
   "source": [
    "xbar.shape, s0.shape, D.shape"
   ]
  },
  {
   "cell_type": "code",
   "execution_count": null,
   "id": "0c536236-f5dc-4918-a435-870fa4d66990",
   "metadata": {},
   "outputs": [],
   "source": []
  }
 ],
 "metadata": {
  "kernelspec": {
   "display_name": "Python 3 (ipykernel)",
   "language": "python",
   "name": "python3"
  },
  "language_info": {
   "codemirror_mode": {
    "name": "ipython",
    "version": 3
   },
   "file_extension": ".py",
   "mimetype": "text/x-python",
   "name": "python",
   "nbconvert_exporter": "python",
   "pygments_lexer": "ipython3",
   "version": "3.10.10"
  }
 },
 "nbformat": 4,
 "nbformat_minor": 5
}
