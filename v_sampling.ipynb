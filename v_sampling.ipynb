{
 "cells": [
  {
   "cell_type": "markdown",
   "id": "cd09e9cb-c485-44aa-9626-e05f6b0256dd",
   "metadata": {},
   "source": [
    "# Conditional sampling of $v$ in time\n",
    "\n",
    "Here, we try to carefully implement Section 8.7.1 of the notes. Once this seems to be working, we'll move it off to a module."
   ]
  },
  {
   "cell_type": "code",
   "execution_count": null,
   "id": "fc0d35e3-0f7a-48e5-8373-d392dc3fb5a3",
   "metadata": {},
   "outputs": [],
   "source": [
    "import numpy as np\n",
    "np.random.seed(12345)\n",
    "\n",
    "import matplotlib.pyplot as plt\n",
    "%config InlineBackend.figure_format = 'retina'\n",
    "\n",
    "plt.rcParams.update({\n",
    "    \"text.usetex\": True,\n",
    "    'text.latex.preamble': '\\\\usepackage{amsmath}\\\\usepackage{amssymb}'\n",
    "})"
   ]
  },
  {
   "cell_type": "markdown",
   "id": "04ee860c-a514-47ac-91bb-bb2e41d6534f",
   "metadata": {},
   "source": [
    "We'll start by definining some parameters:"
   ]
  },
  {
   "cell_type": "code",
   "execution_count": null,
   "id": "7f01d985-385c-4c70-881f-65253384d865",
   "metadata": {},
   "outputs": [],
   "source": [
    "N = 1000  # total number of samples\n",
    "dt = 0.001  # sample spacing (in s)\n",
    "taxis = np.arange(0, N * dt, dt)\n",
    "freqs = np.fft.fftfreq(N, dt)\n",
    "Omega = len(freqs)"
   ]
  },
  {
   "cell_type": "markdown",
   "id": "59737044-820a-4f87-9e11-e6037a16c605",
   "metadata": {},
   "source": [
    "Now we want to write a function that calculates $\\boldsymbol{\\phi}_t$ from the notes:"
   ]
  },
  {
   "cell_type": "code",
   "execution_count": null,
   "id": "22b42f87-35a2-44cc-9a0c-b5eb1043ec6f",
   "metadata": {},
   "outputs": [],
   "source": [
    "def phi(t, freqs):\n",
    "    \"\"\"\n",
    "    Calculate phi_t as in notes. \n",
    "    Assumes \\omega = 0 is at index 0!\n",
    "    \"\"\"\n",
    "    phase = np.exp(1j * 2 * np.pi * freqs * t)\n",
    "    phase[0] -= 1\n",
    "    phase /= np.sqrt(freqs.shape[0])\n",
    "    return phase"
   ]
  },
  {
   "cell_type": "markdown",
   "id": "d7bb4d9f-858c-4521-bf9c-ced7e102826c",
   "metadata": {},
   "source": [
    "A simple test: We should have $\\mathrm{iFFT}(x)(t) = \\frac{\\sqrt{\\Omega - 1}}{\\Omega}\\boldsymbol{\\phi}_t \\cdot \\mathbf{x}_t$ when $\\mathbf{x}$ has no zero-frequency content."
   ]
  },
  {
   "cell_type": "code",
   "execution_count": null,
   "id": "32cf3e8c-1d27-469c-9aea-219691a725e5",
   "metadata": {},
   "outputs": [],
   "source": [
    "x = np.random.randn(Omega)\n",
    "x[0] = 0\n",
    "ifftx = np.fft.ifft(x)\n",
    "\n",
    "phix = (np.sqrt(Omega - 1)/Omega) * np.array([np.dot(phi(t, freqs), x) for t in taxis])"
   ]
  },
  {
   "cell_type": "code",
   "execution_count": null,
   "id": "54803e81-aac2-446a-b281-393386c3ad89",
   "metadata": {},
   "outputs": [],
   "source": [
    "ifftx[:10], phix[:10]"
   ]
  },
  {
   "cell_type": "code",
   "execution_count": null,
   "id": "07674663-25f1-47f3-a39e-ca299abc5047",
   "metadata": {},
   "outputs": [],
   "source": [
    "fig, ax = plt.subplots(1, 2)\n",
    "ax[0].plot(taxis, np.real(ifftx - phix))\n",
    "ax[0].set_title(r\"$\\mathcal{R}[\\mathrm{iFFT}(x)(t) - \\frac{\\sqrt{\\Omega - 1}}{\\Omega}\\boldsymbol{\\phi}_t \\cdot \\mathbf{x}_t]$\")\n",
    "ax[0].set_xlabel(\"Time (s)\")\n",
    "ax[1].plot(taxis, np.imag(ifftx - phix))\n",
    "ax[1].set_title(r\"$\\mathcal{I}[\\mathrm{iFFT}(x)(t) - \\frac{\\sqrt{\\Omega - 1}}{\\Omega}\\boldsymbol{\\phi}_t \\cdot \\mathbf{x}_t]$\")\n",
    "ax[1].set_xlabel(\"Time (s)\");"
   ]
  },
  {
   "cell_type": "code",
   "execution_count": null,
   "id": "08d1c377-8603-4a37-9b0d-6471c571e6d0",
   "metadata": {},
   "outputs": [],
   "source": []
  }
 ],
 "metadata": {
  "kernelspec": {
   "display_name": "Python 3 (ipykernel)",
   "language": "python",
   "name": "python3"
  },
  "language_info": {
   "codemirror_mode": {
    "name": "ipython",
    "version": 3
   },
   "file_extension": ".py",
   "mimetype": "text/x-python",
   "name": "python",
   "nbconvert_exporter": "python",
   "pygments_lexer": "ipython3",
   "version": "3.10.10"
  }
 },
 "nbformat": 4,
 "nbformat_minor": 5
}
