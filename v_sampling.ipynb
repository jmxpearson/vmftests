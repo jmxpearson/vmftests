{
 "cells": [
  {
   "cell_type": "markdown",
   "id": "cd09e9cb-c485-44aa-9626-e05f6b0256dd",
   "metadata": {},
   "source": [
    "# Conditional sampling of $v$ in time\n",
    "\n",
    "Here, we try to carefully implement Section 8.7.1 of the notes. Once this seems to be working, we'll move it off to a module."
   ]
  },
  {
   "cell_type": "code",
   "execution_count": null,
   "id": "fc0d35e3-0f7a-48e5-8373-d392dc3fb5a3",
   "metadata": {},
   "outputs": [],
   "source": [
    "import numpy as np\n",
    "np.random.seed(12345)\n",
    "\n",
    "import matplotlib.pyplot as plt\n",
    "%config InlineBackend.figure_format = 'retina'\n",
    "\n",
    "plt.rcParams.update({\n",
    "    \"text.usetex\": True,\n",
    "    'text.latex.preamble': '\\\\usepackage{amsmath}\\\\usepackage{amssymb}'\n",
    "})"
   ]
  },
  {
   "cell_type": "markdown",
   "id": "04ee860c-a514-47ac-91bb-bb2e41d6534f",
   "metadata": {},
   "source": [
    "We'll start by definining some parameters:"
   ]
  },
  {
   "cell_type": "code",
   "execution_count": null,
   "id": "7f01d985-385c-4c70-881f-65253384d865",
   "metadata": {},
   "outputs": [],
   "source": [
    "N = 1000  # total number of samples\n",
    "dt = 0.001  # sample spacing (in s)\n",
    "taxis = np.arange(0, N * dt, dt)\n",
    "freqs = np.fft.fftfreq(N, dt)\n",
    "Omega = len(freqs)"
   ]
  },
  {
   "cell_type": "markdown",
   "id": "59737044-820a-4f87-9e11-e6037a16c605",
   "metadata": {},
   "source": [
    "Now we want to write a function that calculates $\\boldsymbol{\\phi}_t$ from the notes:"
   ]
  },
  {
   "cell_type": "code",
   "execution_count": null,
   "id": "22b42f87-35a2-44cc-9a0c-b5eb1043ec6f",
   "metadata": {},
   "outputs": [],
   "source": [
    "def phi(t, freqs):\n",
    "    \"\"\"\n",
    "    Calculate phi_t as in notes. \n",
    "    Assumes \\omega = 0 is at index 0!\n",
    "    \"\"\"\n",
    "    phase = np.exp(1j * 2 * np.pi * freqs * t)\n",
    "    phase[0] -= 1\n",
    "    phase /= np.sqrt(freqs.shape[0] - 1)\n",
    "    return phase"
   ]
  },
  {
   "cell_type": "markdown",
   "id": "d7bb4d9f-858c-4521-bf9c-ced7e102826c",
   "metadata": {},
   "source": [
    "A simple test: We should have $\\mathrm{iFFT}(x)(t) = \\frac{\\sqrt{\\Omega - 1}}{\\Omega}\\boldsymbol{\\phi}_t \\cdot \\mathbf{x}_t$ when $\\mathbf{x}$ has no zero-frequency content."
   ]
  },
  {
   "cell_type": "code",
   "execution_count": null,
   "id": "32cf3e8c-1d27-469c-9aea-219691a725e5",
   "metadata": {},
   "outputs": [],
   "source": [
    "x = np.random.randn(Omega)\n",
    "x[0] = 0\n",
    "ifftx = np.fft.ifft(x)\n",
    "\n",
    "phix = (np.sqrt(Omega - 1)/Omega) * np.array([np.dot(phi(t, freqs), x) for t in taxis])"
   ]
  },
  {
   "cell_type": "code",
   "execution_count": null,
   "id": "54803e81-aac2-446a-b281-393386c3ad89",
   "metadata": {},
   "outputs": [],
   "source": [
    "ifftx[:10], phix[:10]"
   ]
  },
  {
   "cell_type": "code",
   "execution_count": null,
   "id": "07674663-25f1-47f3-a39e-ca299abc5047",
   "metadata": {},
   "outputs": [],
   "source": [
    "fig, ax = plt.subplots(1, 2)\n",
    "ax[0].plot(taxis, np.real(ifftx - phix))\n",
    "ax[0].set_title(r\"$\\mathcal{R}[\\mathrm{iFFT}(x)(t) - \\frac{\\sqrt{\\Omega - 1}}{\\Omega}\\boldsymbol{\\phi}_t \\cdot \\mathbf{x}_t]$\")\n",
    "ax[0].set_xlabel(\"Time (s)\")\n",
    "ax[1].plot(taxis, np.imag(ifftx - phix))\n",
    "ax[1].set_title(r\"$\\mathcal{I}[\\mathrm{iFFT}(x)(t) - \\frac{\\sqrt{\\Omega - 1}}{\\Omega}\\boldsymbol{\\phi}_t \\cdot \\mathbf{x}_t]$\")\n",
    "ax[1].set_xlabel(\"Time (s)\");"
   ]
  },
  {
   "cell_type": "markdown",
   "id": "2ac2f6a9-d8ce-4a2d-9f4a-4f2e6e5e40c4",
   "metadata": {},
   "source": [
    "## Programming the solution\n",
    "\n",
    "From the notes, if we have $\\mathbf{v}_{t-1}$, then the optimal choice for the next time point $\\mathbf{\\hat{v}}_t$ is given by\n",
    "$$\n",
    "\\mathbf{\\hat{v}}_t = \\frac{\\mathbf{v}_{t-1} + \\lambda^* \\boldsymbol{\\phi}^*_t}{\\sqrt{1 + |\\lambda|^2 + 2\\mathrm{Re}(\\lambda (\\mathbf{v}_{t-1} \\cdot \\boldsymbol{\\phi}_t))}}\n",
    "$$\n",
    "with\n",
    "$$\n",
    "\\lambda = -(\\mathbf{v}^*_{t-1} \\cdot \\boldsymbol{\\phi}^*_t) + \\frac{\\Omega}{\\sqrt{\\Omega - 1}}\\frac{\\hat{m}_t}{f_t}\\sqrt{\\frac{1 - |\\mathbf{v}_{t-1} \\cdot \\boldsymbol{\\phi}_t|^2}{1 - \\frac{\\Omega^2}{\\Omega - 1} (\\hat{m}_t/f_t)^2}}.\n",
    "$$\n",
    "We want a function that performs this calculation."
   ]
  },
  {
   "cell_type": "code",
   "execution_count": null,
   "id": "767b2032-f8d9-462b-ac26-8da7577415f4",
   "metadata": {},
   "outputs": [],
   "source": [
    "vprev = np.random.randn(Omega) + np.random.randn(Omega) * 1j\n",
    "vprev /= np.linalg.norm(vprev)\n",
    "bt = .7/np.sqrt(Omega)\n",
    "t = 0.1"
   ]
  },
  {
   "cell_type": "code",
   "execution_count": null,
   "id": "9de74703-83d1-4a64-b201-93586bbdbe86",
   "metadata": {},
   "outputs": [],
   "source": [
    "def vhat(vprev, bt, t, Omega, dt):\n",
    "    \"\"\"\n",
    "    vprev = v_{t-1}\n",
    "    bt    = \\hat{m}_t/f_t\n",
    "    t     = time\n",
    "    Omega = number of frequencies\n",
    "    \"\"\"\n",
    "    freqs = np.fft.fftfreq(Omega, dt)\n",
    "    phit = phi(t, freqs)\n",
    "    alpha = np.dot(vprev, phit)\n",
    "    oo = Omega/np.sqrt(Omega - 1)\n",
    "    lam = -np.conj(alpha) + oo * bt * np.sqrt((1 - np.abs(alpha)**2)/(1 - (oo * bt)**2))\n",
    "    \n",
    "    vv = (vprev + np.conj(lam * phit))/np.sqrt(1 + np.abs(lam)**2 + 2 * np.real(lam * alpha))\n",
    "    \n",
    "    return vv"
   ]
  },
  {
   "cell_type": "markdown",
   "id": "b8aecde1-3762-4b5c-b7e4-9fc6d4db1730",
   "metadata": {},
   "source": [
    "Now some tests: is the output on the unit sphere?"
   ]
  },
  {
   "cell_type": "code",
   "execution_count": null,
   "id": "5add07e1-bb27-446d-8927-60465390768d",
   "metadata": {},
   "outputs": [],
   "source": [
    "vv = vhat(vprev, bt, t, Omega, dt)\n",
    "\n",
    "print(f\"The norm of vhat is {np.linalg.norm(vv)}.\")"
   ]
  },
  {
   "cell_type": "markdown",
   "id": "52e8069d-75a7-4e85-9d8a-bdc77af079cd",
   "metadata": {},
   "source": [
    "And do we solve $\\boldsymbol{\\phi}_t \\cdot \\mathbf{v}_t = \\frac{\\Omega}{\\sqrt{\\Omega - 1}}\\frac{\\hat{m}_t}{f_t}$?"
   ]
  },
  {
   "cell_type": "code",
   "execution_count": null,
   "id": "b4c78682-59e3-4dfb-8111-e96f9fa88c25",
   "metadata": {},
   "outputs": [],
   "source": [
    "phit = phi(t, np.fft.fftfreq(Omega, dt))\n",
    "phiv = np.dot(phit, vv)\n",
    "oo = Omega/np.sqrt(Omega - 1)\n",
    "print(f\"phi . v = {phiv}\")\n",
    "print(f\"oo * bt = {oo * bt}\")"
   ]
  },
  {
   "cell_type": "markdown",
   "id": "00e43d3d-b29b-441b-985b-44d8968d64f8",
   "metadata": {},
   "source": [
    "These are pretty close, but not super accurate."
   ]
  },
  {
   "cell_type": "code",
   "execution_count": null,
   "id": "8e9bdd18-d807-4e37-a480-b2a63491905f",
   "metadata": {},
   "outputs": [],
   "source": []
  }
 ],
 "metadata": {
  "kernelspec": {
   "display_name": "Python 3 (ipykernel)",
   "language": "python",
   "name": "python3"
  },
  "language_info": {
   "codemirror_mode": {
    "name": "ipython",
    "version": 3
   },
   "file_extension": ".py",
   "mimetype": "text/x-python",
   "name": "python",
   "nbconvert_exporter": "python",
   "pygments_lexer": "ipython3",
   "version": "3.10.10"
  }
 },
 "nbformat": 4,
 "nbformat_minor": 5
}
