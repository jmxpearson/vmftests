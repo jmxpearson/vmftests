{
 "cells": [
  {
   "cell_type": "markdown",
   "id": "526c9be2-a967-498d-9624-e543e2e69467",
   "metadata": {},
   "source": [
    "# Let's generate some synthetic data\n",
    "\n",
    "We'll use the O-SPLAT model with a pretty simple $v$ parameter. We can later try to use this for testing inference."
   ]
  },
  {
   "cell_type": "code",
   "execution_count": null,
   "id": "61aa4e97-113b-413e-938f-243632357d47",
   "metadata": {},
   "outputs": [],
   "source": [
    "import numpy as np\n",
    "np.random.seed(12345)\n",
    "\n",
    "import matplotlib.pyplot as plt\n",
    "%config InlineBackend.figure_format = 'retina'\n",
    "\n",
    "plt.rcParams.update({\n",
    "    \"text.usetex\": True,\n",
    "})\n",
    "\n",
    "import scipy.stats as stats"
   ]
  },
  {
   "cell_type": "markdown",
   "id": "09361e53-e0ee-4294-99d9-5ad971c1e03e",
   "metadata": {},
   "source": [
    "Start by assuming a sampling rate $\\Delta t$ of 1 ms, so that the Nyquist frequency is 500 Hz. In practice, we will not be interested in anything above 125 Hz (unless we consider high gamma).\n",
    "\n",
    "Since the signal is real, we need $v^*_{\\omega, t} = v_{-\\omega, t}$, and we'll start by assuming no phase delays (i.e., $v$ is real).\n",
    "\n",
    "We'll start with three latent patterns, each with power peaked around a particular frequency."
   ]
  },
  {
   "cell_type": "code",
   "execution_count": null,
   "id": "9dccd015-bad2-4b0e-ae4d-03b7de0e1dbc",
   "metadata": {},
   "outputs": [],
   "source": [
    "max_freq = 250  # maximum (absolute value) frequency we care about\n",
    "Nlat = 3  # number of latent patterns\n",
    "N = 1000  # number of samples\n",
    "dt = 0.001  # sample spacing (in s)\n",
    "\n",
    "freqs = np.fft.fftshift(np.fft.fftfreq(N, dt))\n",
    "print(f\"Max frequency: {np.max(freqs)}, Min frequency: {np.min(freqs)}\")"
   ]
  },
  {
   "cell_type": "markdown",
   "id": "56be654d-240d-425c-8a93-f7a92af25f18",
   "metadata": {},
   "source": [
    "As expected, the max and min frequencies are the Nyquist frequency. Note that these are linear frequencies $f$, not angular frequencies $\\omega$ because of the [FFT definition used by NumPy](https://numpy.org/doc/stable/reference/routines.fft.html#implementation-details)."
   ]
  },
  {
   "cell_type": "code",
   "execution_count": null,
   "id": "64c6ebcd-ddc3-477e-90e9-ac4ba4ad6964",
   "metadata": {},
   "outputs": [],
   "source": [
    "center_freqs = [5, 25, 60]  # peak power frequencies of each latent\n",
    "center_std = [.1, .5, 1.5]\n",
    "\n",
    "all_v = []\n",
    "for mu, sig in zip(center_freqs, center_std):\n",
    "    right = stats.norm.pdf(freqs, loc=mu, scale=sig)\n",
    "    left = stats.norm.pdf(freqs, loc=-mu, scale=sig)\n",
    "    this_v = right + left\n",
    "    this_v /= np.linalg.norm(this_v)\n",
    "    all_v.append(this_v)\n",
    "\n",
    "v = np.stack(all_v, axis=0)"
   ]
  },
  {
   "cell_type": "code",
   "execution_count": null,
   "id": "4662b1ae-86e6-4b46-8d0d-fa2950516326",
   "metadata": {},
   "outputs": [],
   "source": [
    "plt.plot(freqs, v.T)\n",
    "plt.xlim(-125, 125)\n",
    "plt.title(\"Power spectral parameter $v$\")\n",
    "plt.xlabel(\"Frequency (Hz)\")\n",
    "plt.ylabel(\"Density\");"
   ]
  },
  {
   "cell_type": "markdown",
   "id": "c8172f79-a9c7-42a4-b39e-b7920a6f3599",
   "metadata": {},
   "source": [
    "Now, we can plot what the data for this frequency distribution looks like before scaling by $f$. To do that, though, we need to put $v$ back into \"correct\" (`np.fft` convention) frequency order:"
   ]
  },
  {
   "cell_type": "code",
   "execution_count": null,
   "id": "3a5d68db-188c-4e55-a970-d12868b6918c",
   "metadata": {},
   "outputs": [],
   "source": [
    "vv = np.fft.ifftshift(v, axes=1)\n",
    "s = np.fft.ifft(vv)\n",
    "s = np.real(s)  # real parts should be very near 0\n",
    "taxis = np.arange(0, N * dt, dt)\n",
    "plt.plot(taxis, s.T);\n",
    "plt.title(\"Latent patterns in the time domain\")\n",
    "plt.xlabel(\"Time (s)\")\n",
    "plt.ylabel(\"Amplitude\");"
   ]
  },
  {
   "cell_type": "markdown",
   "id": "2883c494-2cf8-43af-ac18-9f0ecc1d1b81",
   "metadata": {},
   "source": [
    "And we want to mix this with a dictionary matrix $\\mathbf{D}$ with normalized columns to get the data:"
   ]
  },
  {
   "cell_type": "code",
   "execution_count": null,
   "id": "1f89a64e-e450-417a-b64b-8252e8b03dde",
   "metadata": {},
   "outputs": [],
   "source": [
    "Nchan = 5\n",
    "D = np.random.randn(Nchan, Nlat)\n",
    "D /= np.linalg.norm(D, axis=0)\n",
    "plt.matshow(D)\n",
    "plt.title(r\"Mixing matrix $\\mathbf{D}$\")\n",
    "plt.xlabel(\"Latent\")\n",
    "plt.ylabel(\"Channel\");"
   ]
  },
  {
   "cell_type": "markdown",
   "id": "d41503ec-2f34-464c-bb48-c992ffb3bc9d",
   "metadata": {},
   "source": [
    "Finally, we make $\\mathbf{X}$ as the mixed data. For simplicity, we will take $f = 1$:"
   ]
  },
  {
   "cell_type": "code",
   "execution_count": null,
   "id": "b37843f0-193a-4622-9c32-348cd20f4ee4",
   "metadata": {},
   "outputs": [],
   "source": [
    "scale_factor = 0.01\n",
    "x = D @ s\n",
    "plt.plot(taxis, (x + scale_factor * np.arange(Nchan)[:, np.newaxis]).T);\n",
    "plt.title(r\"Data $\\mathbf{X}$\")\n",
    "plt.xlabel(\"Time (s)\")\n",
    "plt.ylabel(\"Channel\")\n",
    "plt.gca().set_yticks(scale_factor * np.arange(Nchan));\n",
    "plt.gca().set_yticklabels(range(Nchan));"
   ]
  },
  {
   "cell_type": "code",
   "execution_count": null,
   "id": "b9df4804-8100-4824-b406-e118faeafd46",
   "metadata": {},
   "outputs": [],
   "source": []
  }
 ],
 "metadata": {
  "kernelspec": {
   "display_name": "Python 3 (ipykernel)",
   "language": "python",
   "name": "python3"
  },
  "language_info": {
   "codemirror_mode": {
    "name": "ipython",
    "version": 3
   },
   "file_extension": ".py",
   "mimetype": "text/x-python",
   "name": "python",
   "nbconvert_exporter": "python",
   "pygments_lexer": "ipython3",
   "version": "3.10.10"
  }
 },
 "nbformat": 4,
 "nbformat_minor": 5
}
